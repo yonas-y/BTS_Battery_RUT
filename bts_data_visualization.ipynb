{
 "cells": [
  {
   "cell_type": "code",
   "id": "initial_id",
   "metadata": {
    "collapsed": true,
    "ExecuteTime": {
     "end_time": "2025-08-02T05:10:34.413572Z",
     "start_time": "2025-08-02T05:10:30.919796Z"
    }
   },
   "source": [
    "# ===== Load packages ====== #\n",
    "import numpy as np\n",
    "import pandas as pd\n",
    "import pickle\n",
    "import os\n",
    "import matplotlib.pyplot as plt\n",
    "from app.config import client"
   ],
   "outputs": [],
   "execution_count": 1
  },
  {
   "metadata": {
    "ExecuteTime": {
     "end_time": "2025-08-02T05:10:40.900269Z",
     "start_time": "2025-08-02T05:10:36.458522Z"
    }
   },
   "cell_type": "code",
   "source": [
    "# ====== Connect to MongoDB and import data from a selected BTS! ====== #\n",
    "\n",
    "# Connect to the database!\n",
    "db = client[\"BTS_Dataset\"]\n",
    "\n",
    "# Select the collection!\n",
    "collection = db[\"bts_oper_data_soc\"]\n",
    "\n",
    "# Get unique values of 'bts_id'\n",
    "unique_bts_ids = collection.distinct(\"bts_id\")\n",
    "print(unique_bts_ids)"
   ],
   "id": "7148e9e7a1270b4a",
   "outputs": [
    {
     "name": "stdout",
     "output_type": "stream",
     "text": [
      "['bts111127', 'bts111171', 'bts111172', 'bts111180', 'bts111191', 'bts111210', 'bts111217', 'bts111218', 'bts111220', 'bts111222', 'bts111428', 'bts111429']\n"
     ]
    }
   ],
   "execution_count": 2
  },
  {
   "metadata": {},
   "cell_type": "code",
   "outputs": [],
   "execution_count": null,
   "source": "",
   "id": "8bcdd17316e05190"
  }
 ],
 "metadata": {
  "kernelspec": {
   "display_name": "Python 3",
   "language": "python",
   "name": "python3"
  },
  "language_info": {
   "codemirror_mode": {
    "name": "ipython",
    "version": 2
   },
   "file_extension": ".py",
   "mimetype": "text/x-python",
   "name": "python",
   "nbconvert_exporter": "python",
   "pygments_lexer": "ipython2",
   "version": "2.7.6"
  }
 },
 "nbformat": 4,
 "nbformat_minor": 5
}
